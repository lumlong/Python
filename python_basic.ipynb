{
 "cells": [
  {
   "cell_type": "markdown",
   "metadata": {},
   "source": [
    "# II. Types and Operations"
   ]
  },
  {
   "cell_type": "code",
   "execution_count": 8,
   "metadata": {},
   "outputs": [
    {
     "data": {
      "text/plain": [
       "({'a', 'b', 'c'}, {'a', 'b', 'c'})"
      ]
     },
     "execution_count": 8,
     "metadata": {},
     "output_type": "execute_result"
    }
   ],
   "source": [
    "from decimal import Decimal\n",
    "from fractions import Fraction\n",
    "\n",
    "# Number\n",
    "1234, 3.1415, 3+4j, 0o177, 0x9ff, 0b111, Decimal(1), Fraction(1)\n",
    "oct(64), hex(64), bin(64)\n",
    "\n",
    "# Strings\n",
    "'spam', 'Bob'\n",
    "\n",
    "# Lists\n",
    "[1, [2, 'three'], 4.5], list(range(10))\n",
    "\n",
    "# Dictionaries\n",
    "{'food': 'spam', 'taste': 'yum'}, dict(hours=10)\n",
    "\n",
    "# Tuples\n",
    "(1, 'spam', 4, 'U'), tuple('spam')\n",
    "\n",
    "# Files\n",
    "# open('eggs.txt'), open(r'C:\\ham.bin', 'wb')\n",
    "\n",
    "# Sets\n",
    "set('abc'), {'a', 'b', 'c'}\n",
    "\n",
    "# Other core types\n",
    "# Program util types\n",
    "# Implementation-related types"
   ]
  },
  {
   "cell_type": "markdown",
   "metadata": {},
   "source": [
    "### Numbers in Action"
   ]
  },
  {
   "cell_type": "code",
   "execution_count": 12,
   "metadata": {},
   "outputs": [
    {
     "data": {
      "text/plain": [
       "False"
      ]
     },
     "execution_count": 12,
     "metadata": {},
     "output_type": "execute_result"
    }
   ],
   "source": [
    "# Comparison\n",
    "1 < 2\n",
    "2.0 >= 1\n",
    "2.0 == 2.0\n",
    "2.0 != 2.0"
   ]
  },
  {
   "cell_type": "code",
   "execution_count": 14,
   "metadata": {},
   "outputs": [
    {
     "data": {
      "text/plain": [
       "4.0"
      ]
     },
     "execution_count": 14,
     "metadata": {},
     "output_type": "execute_result"
    }
   ],
   "source": [
    "import math\n",
    "# Closest number below value\n",
    "math.floor(2.5)  # 2\n",
    "math.floor(-2.5) # -3\n",
    "# Truncate fractional part (toward zero)\n",
    "math.trunc(2.5)  # 2\n",
    "math.trunc(-2.5) # -2"
   ]
  },
  {
   "cell_type": "code",
   "execution_count": 19,
   "metadata": {},
   "outputs": [
    {
     "data": {
      "text/plain": [
       "'0b1'"
      ]
     },
     "execution_count": 19,
     "metadata": {},
     "output_type": "execute_result"
    }
   ],
   "source": [
    "x = 0b0001\n",
    "# Shift left\n",
    "bin(x << 2)\n",
    "# OR\n",
    "bin(x | 2)\n",
    "# # AND\n",
    "bin(x & 1)"
   ]
  },
  {
   "cell_type": "markdown",
   "metadata": {},
   "source": [
    "### String"
   ]
  },
  {
   "cell_type": "code",
   "execution_count": 23,
   "metadata": {},
   "outputs": [
    {
     "name": "stdout",
     "output_type": "stream",
     "text": [
      "0\n",
      "1\n",
      "2\n",
      "3\n",
      "4\n",
      "5\n",
      "6\n",
      "7\n",
      "8\n",
      "9\n"
     ]
    }
   ],
   "source": [
    "import re\n",
    "\n",
    "S = \"0123456789\"\n",
    "S1 = \"\"\n",
    "S2 = \"\"\n",
    "# Concatenate, repeat\n",
    "S1 + S2\n",
    "# Index, slice, length\n",
    "i,j=0,8\n",
    "S * 3\n",
    "S[i]\n",
    "S[i:j]\n",
    "len(S)\n",
    "# String formatting expression\n",
    "\"a %s parrot\" % 'blue'\n",
    "# String formatting method in 2.6, 2.7, and 3.X\n",
    "\"a {0} parrot\".format('blue')\n",
    "# String methods (see ahead for all 43):\n",
    "# search,\n",
    "S.find('pa')\n",
    "# remove whitespace,\n",
    "S.rstrip()\n",
    "# replacement,\n",
    "S.replace('pa', 'xx')\n",
    "# split on delimiter,\n",
    "S.split(',')\n",
    "# content test\n",
    "S.isdigit()\n",
    "# case conversion,\n",
    "S.lower()\n",
    "# end test,\n",
    "S.endswith('spam')\n",
    "# delimiter join\n",
    "'spam'.join(['Hello, ', 'world'])\n",
    "# Unicode encoding\n",
    "B = S.encode('latin-1')\n",
    "# Unicode decoding, etc. (see Table 7-3)\n",
    "B.decode('utf8')\n",
    "# Iteration, membership\n",
    "for x in S: print(x)\n",
    "'spam' in S\n",
    "[c * 2 for c in S]\n",
    "map(ord, S)\n",
    "# Pattern matching: library module\n",
    "re.match('sp(.*)am', \" \")"
   ]
  },
  {
   "cell_type": "markdown",
   "metadata": {},
   "source": [
    "### Lists"
   ]
  },
  {
   "cell_type": "code",
   "execution_count": 27,
   "metadata": {},
   "outputs": [
    {
     "name": "stdout",
     "output_type": "stream",
     "text": [
      "1 2 3 "
     ]
    },
    {
     "data": {
      "text/plain": [
       "'spam'"
      ]
     },
     "execution_count": 27,
     "metadata": {},
     "output_type": "execute_result"
    }
   ],
   "source": [
    "# Operations\n",
    "len([1, 2, 3])          # Length\n",
    "[1, 2, 3] + [4, 5, 6]   # Concatenation\n",
    "\n",
    "# List Iteration and Comprehensions\n",
    "3 in [1, 2, 3]                          # Membership\n",
    "for x in [1, 2, 3]: print(x, end=' ')   # Iteration\n",
    "[c * 4 for c in 'SPAM']                 # List Iteration and Comprehensions\n",
    "list(map(abs, [-1, -2, 0, 1, 2]))       # Map a function across a sequence\n",
    "\n",
    "# Indexing, Slicing, and Matrixes\n",
    "L = ['spam', 'Spam', 'SPAM!']   # Map a function across a sequence [1, 2, 0, 1, 2]\n",
    "L[2]            # Offsets start at zero\n",
    "L[-2]           # Negative: count from the right\n",
    "L[1:]           # Slicing fetches sections\n",
    "\n",
    "# Changing Lists in Place\n",
    "L[1] = 'eggs'               # Index assignment\n",
    "L[0:2] = ['eat', 'more']    # Slice assignment: delete+insert\n",
    "\n",
    "# 1. Deletion. The slice you specify to the left of the = is deleted.\n",
    "# 2. Insertion. The new items contained in the iterable object to the right of the = are\n",
    "# inserted into the list on the left, at the place where the old slice was deleted.2\n",
    "L = [1, 2, 3]\n",
    "L[1:2] = [4, 5]     # Replacement/insertion\n",
    "# [1, 4, 5, 3]\n",
    "L[1:1] = [6, 7]     # Insertion (replace nothing)\n",
    "# [1, 6, 7, 4, 5, 3]\n",
    "L[1:2] = []         # Deletion (insert nothing)\n",
    "# [1, 7, 4, 5, 3]\n",
    "\n",
    "L = [1]\n",
    "L[:0] = [2, 3, 4]       # Insert all at :0, an empty slice at front\n",
    "# [2, 3, 4, 1]\n",
    "L[len(L):] = [5, 6, 7]  # Insert all at len(L):, an empty slice at end\n",
    "# [2, 3, 4, 1, 5, 6, 7]\n",
    "L.extend([8, 9, 10])    # Insert all at end, named method\n",
    "# [2, 3, 4, 1, 5, 6, 7, 8, 9, 10]\n",
    "\n",
    "# List method calls\n",
    "L.append('please')  # Append method call: add item at end\n",
    "L.sort()            # Sort list items ('S' < 'e')\n",
    "\n",
    "\n",
    "L.extend([3, 4, 5]) # Add many items at end (like in-place +)\n",
    "L.pop()             # Delete and return last item (by default: −1)\n",
    "L.reverse()         # In-place reversal method\n",
    "list(reversed(L))   # Reversal built-in with a result (iterator\n",
    "\n",
    "L.index('eggs')         # Index of an object (search/find)\n",
    "L.insert(1, 'toast')    # Insert at position\n",
    "L.remove('eggs')        # Delete by value\n",
    "L.pop(1)                # Delete by position\n",
    "L.count('spam')         # Number of occurrences\n",
    "del L[0]                # Delete one item\n"
   ]
  },
  {
   "cell_type": "markdown",
   "metadata": {},
   "source": [
    "### Dictionaries"
   ]
  },
  {
   "cell_type": "code",
   "execution_count": null,
   "metadata": {},
   "outputs": [],
   "source": [
    "D = {}                                      # Empty dictionary\n",
    "D = {'name': 'Bob', 'age': 40}              # Two-item dictionary\n",
    "E = {'cto': {'name': 'Bob', 'age': 40}}     # Nesting\n",
    "D = dict(name='Bob', age=40)                # Alternative construction techniques:\n",
    "D = dict([('name', 'Bob'), ('age', 40)])    # keywords, key/value pairs, \n",
    "D = dict(zip(keyslist, valueslist))         # zipped key/value pairs, \n",
    "D = dict.fromkeys(['name', 'age'])          # key lists\n",
    "\n",
    "D['name']       # Indexing by key\n",
    "E['cto']['age']\n",
    "\n",
    "'age' in D      # Membership: key present test\n",
    "\n",
    "                # Methods:\n",
    "D.keys()        # all keys,\n",
    "D.values()      # all values,\n",
    "D.items()       # all key+value tuples,\n",
    "D.copy()        # copy (top-level),\n",
    "D.clear()       # clear (remove all items),\n",
    "D.update(D2)    # merge by keys,\n",
    "D.get(key, default?)        # fetch by key, if absent default (or None),\n",
    "D.pop(key, default?)        # remove by key, if absent default (or error)\n",
    "D.setdefault(key, default?) # fetch by key, if absent set default (or None), \n",
    "D.popitem()                 # remove/return any (key, value) pair; etc.\n",
    "\n",
    "len(D)          # Length: number of stored entries\n",
    "D[key] = 42     # Adding keys, changing key values\n",
    "del D[key]      # Deleting entries by key\n",
    "list(D.keys())\n",
    "\n",
    "D1.keys() & D2.keys()           # Dictionary views (Python 3.X)\n",
    "D = {x: x*2 for x in range(10)} # Dictionary comprehensions (Python 3.X, 2.7)"
   ]
  },
  {
   "cell_type": "markdown",
   "metadata": {},
   "source": [
    "# Control flows"
   ]
  },
  {
   "cell_type": "code",
   "execution_count": null,
   "metadata": {},
   "outputs": [],
   "source": [
    "if test1:           # if test\n",
    "    statements1     # Associated block\n",
    "elif test2:         # Optional elifs\n",
    "    statements2\n",
    "else:               # Optional else\n",
    "    statements3"
   ]
  },
  {
   "cell_type": "code",
   "execution_count": null,
   "metadata": {},
   "outputs": [],
   "source": [
    "while test:         # Loop test\n",
    "    statements      # Loop body\n",
    "else:               # Optional else\n",
    "    statements      # Run if didn't exit loop with break"
   ]
  },
  {
   "cell_type": "code",
   "execution_count": null,
   "metadata": {},
   "outputs": [],
   "source": [
    "break           # Jumps out of the closest enclosing loop (past the entire loop statement)\n",
    "continue        # Jumps to the top of the closest enclosing loop (to the loop’s header line)\n",
    "pass            # Does nothing at all: it’s an empty statement placeholder\n",
    "Loop else block # Runs if and only if the loop is exited normally (i.e., without hitting a break)\n"
   ]
  },
  {
   "cell_type": "markdown",
   "metadata": {},
   "source": [
    "# IV. Functions and Generators"
   ]
  },
  {
   "cell_type": "markdown",
   "metadata": {},
   "source": [
    "### Basic"
   ]
  },
  {
   "cell_type": "code",
   "execution_count": null,
   "metadata": {},
   "outputs": [],
   "source": [
    "# Call expressions\n",
    "myfunc('spam', 'eggs', meat=ham, *rest)\n",
    "\n",
    "# def\n",
    "def printer(message): \n",
    "    print('Hello ' + message)\n",
    "\n",
    "# return\n",
    "def adder(a, b=1, *c): \n",
    "    return a + b + c[0]\n",
    "\n",
    "# global\n",
    "x = 'old'\n",
    "def changer():\n",
    "    global x; x = 'new'\n",
    "\n",
    "# nonlocal (3.X)\n",
    "def outer(): \n",
    "    x = 'old'\n",
    "    def changer():\n",
    "        nonlocal x; x = 'new'\n",
    "\n",
    "# yield    \n",
    "def squares(x):\n",
    "    for i in range(x): yield i ** 2\n",
    "\n",
    "# lambda\n",
    "funcs = [lambda x: x**2, lambda x: x**3]"
   ]
  },
  {
   "cell_type": "markdown",
   "metadata": {},
   "source": [
    "### Scope"
   ]
  },
  {
   "cell_type": "markdown",
   "metadata": {},
   "source": [
    "**Name Resolution: The LEGB Rule**\n",
    "\n",
    "If the prior section sounds confusing, it really boils down to three simple rules. Within a def statement:\n",
    "\n",
    "* Name assignments create or change local names by default.\n",
    "\n",
    "* Name references search at most four scopes: local, then enclosing functions (if\n",
    "any), then global, then built-in.\n",
    "\n",
    "* Names declared in global and nonlocal statements map assigned names to enclos- ing module and function scopes, respectively.\n",
    "\n",
    "In other words, all names assigned inside a function def statement (or a lambda, an expression we’ll meet later) are locals by default. Functions can freely use names assigned in syntactically enclosing functions and the global scope, but they must declare such nonlocals and globals in order to change them.\n",
    "\n",
    "Python’s name-resolution scheme is sometimes called the LEGB rule, after the scope names:\n",
    "\n",
    "* When you use an unqualified name inside a function, Python searches up to four scopes—the local (L) scope, then the local scopes of any enclosing (E) defs and lambdas, then the global (G) scope, and then the built-in (B) scope—and stops at the first place the name is found. If the name is not found during this search, Python reports an error.\n",
    "\n",
    "* When you assign a name in a function (instead of just referring to it in an expres- sion), Python always creates or changes the name in the local scope, unless it’s declared to be global or nonlocal in that function.\n",
    "\n",
    "* When you assign a name outside any function (i.e., at the top level of a module file, or at the interactive prompt), the local scope is the same as the global scope —the module’s namespace."
   ]
  },
  {
   "cell_type": "code",
   "execution_count": null,
   "metadata": {},
   "outputs": [],
   "source": [
    "# Global scope\n",
    "X = 99              # X and func assigned in module: global \n",
    "\n",
    "def func(Y):        # Y and Z assigned in function: locals\n",
    "    # Local scope\n",
    "    Z = X + Y       # X is a global\n",
    "    return Z\n",
    "\n",
    "func(1)             # func in module: result=100"
   ]
  },
  {
   "cell_type": "code",
   "execution_count": null,
   "metadata": {},
   "outputs": [],
   "source": [
    "X = 88          # Global X\n",
    "\n",
    "def func():\n",
    "    global X\n",
    "    X = 99      # Global X: outside\n",
    "\n",
    "func()\n",
    "print(X)        def # Prints 99"
   ]
  },
  {
   "cell_type": "markdown",
   "metadata": {},
   "source": [
    "Program Design: Minimize Global Variables\n",
    "\n",
    "Program Design: Minimize Cross-File Changes"
   ]
  },
  {
   "cell_type": "markdown",
   "metadata": {},
   "source": [
    "#### Factory Functions: Closures"
   ]
  },
  {
   "cell_type": "code",
   "execution_count": null,
   "metadata": {},
   "outputs": [],
   "source": [
    "def maker(N):\n",
    "    def action(X): # Make and return action\n",
    "        return X ** N # action retains N from enclosing scope\n",
    "    return action"
   ]
  },
  {
   "cell_type": "markdown",
   "metadata": {},
   "source": [
    "nonlocal"
   ]
  },
  {
   "cell_type": "code",
   "execution_count": null,
   "metadata": {},
   "outputs": [],
   "source": [
    "def tester(start):\n",
    "    state = start\n",
    "    def nested(label):\n",
    "        nonlocal state\n",
    "        print(label, state)\n",
    "        state += 1\n",
    "    return nested\n",
    "\n",
    "F = tester(0)\n",
    "F('spam') \n",
    "# spam 0\n",
    "F('ham')\n",
    "# ham 1\n",
    "F('eggs') \n",
    "# eggs 2"
   ]
  },
  {
   "cell_type": "markdown",
   "metadata": {},
   "source": [
    "lambda"
   ]
  },
  {
   "cell_type": "code",
   "execution_count": null,
   "metadata": {},
   "outputs": [],
   "source": [
    "def func(): \n",
    "    x= 4\n",
    "    action = (lambda n: x ** n)     # x remembered from enclosing def\n",
    "    return action\n",
    "x = func()\n",
    "print(x(2))                         # Prints 16, 4 ** 2"
   ]
  },
  {
   "cell_type": "markdown",
   "metadata": {},
   "source": [
    "### Arguments"
   ]
  },
  {
   "cell_type": "code",
   "execution_count": null,
   "metadata": {},
   "outputs": [],
   "source": [
    "func(value)             # Caller    Normal argument: matched by position\n",
    "func(name=value)        # Caller    Keyword argument: matched by name\n",
    "func(*iterable)         # Caller    Pass all objects in iterable as individual positional arguments\n",
    "func(**dict)            # Caller    Pass all key/value pairs in dict as individual keyword arguments \n",
    "def func(name)          # Function  Normal argument: matches any passed value by position or name \n",
    "def func(name=value)    # Function  Default argument value, if not passed in the call\n",
    "def func(*name)         # Function  Matches and collects remaining positional arguments in a tuple \n",
    "def func(**name)        # Function  Matches and collects remaining keyword arguments in a dictionary \n",
    "def func(*other, name)  # Function  Arguments that must be passed by keyword only in calls (3.X) \n",
    "def func(*, name=value) # Function  Arguments that must be passed by keyword only in calls (3.X)"
   ]
  },
  {
   "cell_type": "markdown",
   "metadata": {},
   "source": [
    "### Advanced Function Topics\n",
    "\n",
    "#### Recursion"
   ]
  },
  {
   "cell_type": "code",
   "execution_count": null,
   "metadata": {},
   "outputs": [],
   "source": [
    "def mysum(L): \n",
    "    if not L:\n",
    "        return 0\n",
    "    else:\n",
    "        return L[0] + mysum(L[1:])  # Call myself recursively\n",
    "\n",
    "mysum([1, 2, 3, 4, 5])"
   ]
  },
  {
   "cell_type": "markdown",
   "metadata": {},
   "source": [
    "### 20. Comprehensions and Generations\n",
    "\n",
    "**List Comprehensions and Functional Tools**"
   ]
  },
  {
   "cell_type": "code",
   "execution_count": null,
   "metadata": {},
   "outputs": [],
   "source": [
    "[ expression    for target1 in iterable1 if condition1 \n",
    "                for target2 in iterable2 if condition2 ...\n",
    "                for targetN in iterableN if conditionN ]"
   ]
  },
  {
   "cell_type": "code",
   "execution_count": 29,
   "metadata": {},
   "outputs": [
    {
     "data": {
      "text/plain": [
       "[100, 200, 300, 101, 201, 301, 102, 202, 302]"
      ]
     },
     "execution_count": 29,
     "metadata": {},
     "output_type": "execute_result"
    }
   ],
   "source": [
    "[x + y for x in [0, 1, 2] for y in [100, 200, 300]]"
   ]
  },
  {
   "cell_type": "code",
   "execution_count": 30,
   "metadata": {},
   "outputs": [
    {
     "data": {
      "text/plain": [
       "[(0, 1), (0, 3), (2, 1), (2, 3), (4, 1), (4, 3)]"
      ]
     },
     "execution_count": 30,
     "metadata": {},
     "output_type": "execute_result"
    }
   ],
   "source": [
    "[(x, y) for x in range(5) if x % 2 == 0 for y in range(5) if y % 2 == 1]"
   ]
  },
  {
   "cell_type": "markdown",
   "metadata": {},
   "source": [
    "**Generator Functions and Expressions**"
   ]
  },
  {
   "cell_type": "code",
   "execution_count": 1,
   "metadata": {},
   "outputs": [
    {
     "name": "stdout",
     "output_type": "stream",
     "text": [
      "0 : 1 : 4 : 9 : 16 : "
     ]
    }
   ],
   "source": [
    "def gensquares(N): \n",
    "    for i in range(N):\n",
    "        yield i ** 2        # Resume here later\n",
    "        \n",
    "        \n",
    "for i in gensquares(5):     # Resume the function \n",
    "    print(i, end=' : ')     # Print last yielded value"
   ]
  },
  {
   "cell_type": "code",
   "execution_count": 2,
   "metadata": {},
   "outputs": [
    {
     "data": {
      "text/plain": [
       "9"
      ]
     },
     "execution_count": 2,
     "metadata": {},
     "output_type": "execute_result"
    }
   ],
   "source": [
    "x = gensquares(4)\n",
    "next(x)     # Same as x.__next__() in 3.X\n",
    "next(x) \n",
    "next(x) \n",
    "next(x) "
   ]
  },
  {
   "cell_type": "code",
   "execution_count": 5,
   "metadata": {},
   "outputs": [
    {
     "data": {
      "text/plain": [
       "{0: 'AAA', 1: 'BBB', 2: 'CCC'}"
      ]
     },
     "execution_count": 5,
     "metadata": {},
     "output_type": "execute_result"
    }
   ],
   "source": [
    "def ups(line):\n",
    "    for sub in line.split(','):\n",
    "        yield sub.upper()\n",
    "        \n",
    "{i: s for (i, s) in enumerate(ups('aaa,bbb,ccc'))}"
   ]
  },
  {
   "cell_type": "code",
   "execution_count": null,
   "metadata": {},
   "outputs": [],
   "source": [
    "# Extended generator function protocol: send versus next\n",
    "def gen():\n",
    "    for i in range(10):\n",
    "        X = yield i\n",
    "        print(X)\n",
    "           \n",
    "G = gen()\n",
    "next(G)     # Must call next() first, to start generator\n",
    "G.send(77)  # Advance, and send value to yield expression"
   ]
  },
  {
   "cell_type": "code",
   "execution_count": 10,
   "metadata": {},
   "outputs": [
    {
     "data": {
      "text/plain": [
       "1"
      ]
     },
     "execution_count": 10,
     "metadata": {},
     "output_type": "execute_result"
    }
   ],
   "source": [
    "# Generator Expressions: Iterables Meet Comprehensions\n",
    "\n",
    "G = (x ** 2 for x in range(4))\n",
    "\n",
    "iter(G) is G\n",
    "\n",
    "next(G)\n",
    "next(G)"
   ]
  },
  {
   "cell_type": "code",
   "execution_count": 11,
   "metadata": {},
   "outputs": [
    {
     "data": {
      "text/plain": [
       "['ssss', 'pppp', 'aaaa', 'mmmm']"
      ]
     },
     "execution_count": 11,
     "metadata": {},
     "output_type": "execute_result"
    }
   ],
   "source": [
    "def timesfour(S):   # Generator function\n",
    "    for c in S:\n",
    "        yield c * 4\n",
    "\n",
    "G = timesfour('spam')\n",
    "list(G)             # Iterate automatically"
   ]
  },
  {
   "cell_type": "code",
   "execution_count": 12,
   "metadata": {},
   "outputs": [
    {
     "data": {
      "text/plain": [
       "'PPPP'"
      ]
     },
     "execution_count": 12,
     "metadata": {},
     "output_type": "execute_result"
    }
   ],
   "source": [
    "G = (c * 4 for c in 'SPAM')\n",
    "I = iter(G)         # Iterate manually (expression)\n",
    "next(I)\n",
    "next(I)"
   ]
  },
  {
   "cell_type": "markdown",
   "metadata": {},
   "source": [
    "### The Benchmarking Interlude"
   ]
  },
  {
   "cell_type": "code",
   "execution_count": null,
   "metadata": {},
   "outputs": [],
   "source": [
    "# File timer0.py\n",
    "import time\n",
    "def timer(func, *args):             # Simplistic timing function\n",
    "    start = time.clock()\n",
    "    for i in range(1000):\n",
    "        func(*args)\n",
    "    return time.clock() - start     # Total elapsed time in seconds"
   ]
  },
  {
   "cell_type": "markdown",
   "metadata": {},
   "source": [
    "# V. Mudules and Packages"
   ]
  },
  {
   "cell_type": "code",
   "execution_count": null,
   "metadata": {},
   "outputs": [],
   "source": [
    "import\n",
    "Lets a client (importer) fetch a module as a whole\n",
    "from\n",
    "Allows clients to fetch particular names from a module"
   ]
  },
  {
   "cell_type": "markdown",
   "metadata": {},
   "source": [
    "More specifically, modules have at least three roles:\n",
    "\n",
    "Code reuse\n",
    "\n",
    "As discussed in Chapter 3, modules let you save code in files permanently. Unlike code you type at the Python interactive prompt, which goes away when you exit Python, code in module files is persistent—it can be reloaded and rerun as many times as needed. Just as importantly, modules are a place to define names, known as attributes, which may be referenced by multiple external clients. When used well, this supports a modular program design that groups functionality into reus- able units.\n",
    "\n",
    "System namespace partitioning\n",
    "\n",
    "Modules are also the highest-level program organization unit in Python. Although they are fundamentally just packages of names, these packages are also self-contained—you can never see a name in another file, unless you explicitly import that file. Much like the local scopes of functions, this helps avoid name clashes across your programs. In fact, you can’t avoid this feature—everything “lives” in a module, both the code you run and the objects you create are always implicitly enclosed in modules. Because of that, modules are natural tools for grouping system components.\n",
    "\n",
    "Implementing shared services or data\n",
    "\n",
    "From an operational perspective, modules are also useful for implementing com- ponents that are shared across a system and hence require only a single copy. For instance, if you need to provide a global object that’s used by more than one function or file, you can code it in a module that can then be imported by many clients."
   ]
  },
  {
   "cell_type": "code",
   "execution_count": null,
   "metadata": {},
   "outputs": [],
   "source": [
    "def spam(text):     # File b.py \n",
    "    print(text, 'spam')\n",
    "    \n",
    "import b            # File a.py \n",
    "    b.spam('gumby') # Prints \"gumby spam\""
   ]
  },
  {
   "cell_type": "markdown",
   "metadata": {},
   "source": [
    "**Namesapce**\n",
    "\n",
    "https://packaging.python.org/en/latest/guides/packaging-namespace-packages/"
   ]
  },
  {
   "cell_type": "code",
   "execution_count": null,
   "metadata": {},
   "outputs": [],
   "source": [
    "# setup.py\n",
    "# mynamespace/\n",
    "#     # No __init__.py here.\n",
    "#     subpackage_a/\n",
    "#         # Sub-packages have __init__.py.\n",
    "#         __init__.py\n",
    "#         module.py\n",
    "#     subpackage_b/\n",
    "#         __init__.py\n",
    "#         module.py\n",
    "\n",
    "from mynamespace import subpackage_a\n",
    "from mynamespace import subpackage_b\n",
    "\n",
    "or \n",
    "\n",
    "import mynamespace.subpackage_a.subpackage"
   ]
  },
  {
   "cell_type": "markdown",
   "metadata": {},
   "source": [
    "# VI. Classes and OOP"
   ]
  },
  {
   "cell_type": "markdown",
   "metadata": {},
   "source": [
    "Inheritance\n",
    "\n",
    "Pizza-making robots are kinds of robots, so they possess the usual robot-y prop- erties. In OOP terms, we say they “inherit” properties from the general category of all robots. These common properties need to be implemented only once for the general case and can be reused in part or in full by all types of robots we may build in the future.\n",
    "\n",
    "Composition\n",
    "\n",
    "Pizza-making robots are really collections of components that work together as a team. For instance, for our robot to be successful, it might need arms to roll dough, motors to maneuver to the oven, and so on. In OOP parlance, our robot is an example of composition; it contains other objects that it activates to do its bid- ding. Each component might be coded as a class, which defines its own behavior and relationships.\n",
    "\n",
    "General OOP ideas like inheritance and composition apply to any application that can be decomposed into a set of objects. For example, in typical GUI systems, inter- faces are written as collections of widgets—buttons, labels, and so on—which are all drawn when their container is drawn (composition). Moreover, we may be able to write our own custom widgets—buttons with unique fonts, labels with new color schemes, and the like—which are specialized versions of more general interface devi- ces (inheritance).\n",
    "\n",
    "From a more concrete programming perspective, classes are Python program units, just like functions and modules: they are another compartment for packaging logic and data. In fact, classes also define new namespaces, much like modules. But, com- pared to other program units we’ve already seen, classes have three critical distinc- tions that make them more useful when it comes to building new objects:\n",
    "\n",
    "Multiple instances\n",
    "\n",
    "Classes are essentially factories for generating one or more objects. Every time we call a class, we generate a new object with a distinct namespace. Each object gen- erated from a class has access to the class’s attributes and gets a namespace of its own for data that varies per object. This is similar to the per-call state retention of Chapter 17’s closure functions, but is explicit and natural in classes, and is just one of the things that classes do. Classes offer a complete programming solution.\n",
    "\n",
    "Customization via inheritance\n",
    "\n",
    "Classes also support the OOP notion of inheritance; we can extend a class by redefining its attributes outside the class itself in new software components coded as subclasses. More generally, classes can build up namespace hierarchies, which define names to be used by objects created from classes in the hierarchy. This supports multiple customizable behaviors more directly than other tools.\n",
    "\n",
    "Operator overloading\n",
    "\n",
    "By providing special protocol methods, classes can define objects that respond to the sorts of operations we saw at work on built-in types. For instance, objects made with classes can be sliced, concatenated, indexed, and so on. Python pro- vides hooks that classes can use to intercept and implement any built-in type operation.\n",
    "\n",
    "At its base, the mechanism of OOP in Python is largely just two bits of magic: a spe- cial first argument in functions (to receive the subject of a call) and inheritance attribute search (to support programming by customization). Other than this, the model is largely just functions that ultimately process built-in types. While not radi- cally new, though, OOP adds an extra layer of structure that supports better pro- gramming than flat procedural models. Along with the functional tools we met earlier, it represents a major abstraction step above computer hardware that helps us build more sophisticated programs."
   ]
  },
  {
   "cell_type": "markdown",
   "metadata": {},
   "source": [
    "In this figure, there is a tree of five objects labeled with variables, all of which have attached attributes, ready to be searched. More specifically, this tree links together three class objects (the ovals C1, C2, and C3) and two instance objects (the rectangles I1 and I2) into an inheritance search tree. Notice that in the Python object model, classes and the instances you generate from them are two distinct object types:\n",
    "\n",
    "Classes\n",
    "\n",
    "Serve as instance factories. Their attributes provide behavior—data and func- tions—that is inherited by all the instances generated from them (e.g., a function to compute an employee’s salary from pay and hours).\n",
    "\n",
    "Instances\n",
    "\n",
    "Represent the concrete items in a program’s domain. Their attributes record data that varies per specific object (e.g., an employee’s Social Security number)."
   ]
  },
  {
   "cell_type": "code",
   "execution_count": null,
   "metadata": {},
   "outputs": [],
   "source": [
    "class Employee:                     # General superclass\n",
    "    def computeSalary(self): ...    # Common or default behaviors\n",
    "    def giveRaise(self): ...\n",
    "    def promote(self): ...\n",
    "    def retire(self): ..."
   ]
  },
  {
   "cell_type": "code",
   "execution_count": null,
   "metadata": {},
   "outputs": [],
   "source": [
    "class Engineer(Employee):           # Specialized subclass \n",
    "    def computeSalary(self): ...    # Something custom here"
   ]
  },
  {
   "cell_type": "code",
   "execution_count": null,
   "metadata": {},
   "outputs": [],
   "source": [
    "bob = Employee()        # Default behavior\n",
    "sue = Employee()        # Default behavior\n",
    "tom = Engineer()        # Custom salary calculator\n",
    "\n",
    "\n",
    "company = [bob, sue, tom] # A composite object\n",
    "for emp in company:\n",
    "    print(emp.computeSalary()) # Run this object's version: default or custom"
   ]
  },
  {
   "cell_type": "code",
   "execution_count": null,
   "metadata": {},
   "outputs": [],
   "source": [
    "# __init__              Constructor                     Object creation: X = Class(args) \n",
    "# __del__               Destructor                      Object reclamation of X\n",
    "# __add__               Operator +                      X + Y,X += Y if no__iadd__\n",
    "# __or__                Operator | (bitwise OR)         X | Y,X |= Y if no__ior__  \n",
    "# __repr__, __str__     Printing, conversions           print(X), repr(X), str(X) \n",
    "# __call__              Function calls                  X(*args, **kargs) \n",
    "# __getattr__           Attribute fetch                 X.undefined\n",
    "# __setattr__           Attribute assignment            X.any = value\n",
    "# __delattr__           Attribute deletion              del X.any\n",
    "# __getattribute__      Attribute fetch                 X.any\n",
    "# __getitem__           Indexing, slicing, iteration    X[key], X[i:j], for loops and other iterations if no __iter__\n",
    "# __setitem__           Index and slice assignment      X[key] = value, X[i:j] = iterable\n",
    "# __delitem__           Index and slice deletion        del X[key], del X[i:j]\n",
    "# __len__               Length                          len(X), truth tests if no__bool__\n",
    "# __bool__              Boolean tests                   bool(X), truth tests (named __nonzero__ in 2.X) \n",
    "# __lt__, __gt__,       Comparisons                     X < Y, X > Y, X <= Y, X >= Y, X == Y,\n",
    "# __le__, __ge__,                                       X != Y (or else __cmp__ in 2.X only) \n",
    "# __eq__, __ne__                                        \n",
    "# __radd__              Right-side operators            Other + X\n",
    "# __iadd__              In-place augmented operators    X += Y (or else __add__)\n",
    "# __iter__, __next__    Iteration contexts              I=iter(X),next(I);forloops,inif no__con tains__, all comprehensions,map(F,X), others (__next__ is named next in 2.X)\n",
    "\n",
    "# __contains__          Membership test                 item in X (any iterable)\n",
    "# __index__             Integer value                   hex(X),bin(X),oct(X),O[X],O[X:](replaces 2.X __oct__, __hex__)\n",
    "\n",
    "# __enter__, __exit__               Context manager (Chapter 34)            with obj as var:\n",
    "# __get__, __set__, __delete__      Descriptor attributes (Chapter 38)      X.attr, X.attr = value, del X.attr \n",
    "# __new__                           Creation (Chapter 40)                   Object creation, before__init__"
   ]
  },
  {
   "cell_type": "markdown",
   "metadata": {},
   "source": [
    "OOP and Inheritance: “Is-a” Relationships\n",
    "\n",
    "OOP and Composition: “Has-a” Relationships"
   ]
  },
  {
   "cell_type": "markdown",
   "metadata": {},
   "source": [
    "Abstraction\n",
    "Encapsulation\n",
    "Inheritance\n",
    "Polymorphism"
   ]
  },
  {
   "cell_type": "markdown",
   "metadata": {},
   "source": [
    "super() builtin returns a proxy object (temporary object of the superclass) that allows us to access methods of the base class."
   ]
  },
  {
   "cell_type": "markdown",
   "metadata": {},
   "source": [
    "# VIII. Advanced Topics"
   ]
  },
  {
   "cell_type": "code",
   "execution_count": null,
   "metadata": {},
   "outputs": [],
   "source": [
    "# Decorator\n",
    "\n",
    "# property Decorator \n",
    "@property\n",
    "@func.getter\n",
    "@func.setter\n",
    "\n",
    "# Factory method, return cls\n",
    "# Correct instance creation in inheritance, since it return cls (Man), not hardcode class ie.Person\n",
    "@classmethod\n",
    "# Utility function for working specifically with that class.\n",
    "@staticmethod\n",
    "\n",
    "from abc import ABCMeta\n",
    "# You can import ABC, but ABCMeta use to avoid inheritance conflic\n",
    "# class BaseLibSVM(BaseEstimator, ABC):\n",
    "class BaseLibSVM(BaseEstimator, metaclass=ABCMeta):\n",
    "    # abstract methods must be implemented by its subclasses.\n",
    "    @abstractmethod\n",
    "    def absmethod(self):\n",
    "        pass"
   ]
  },
  {
   "cell_type": "code",
   "execution_count": 19,
   "metadata": {},
   "outputs": [
    {
     "name": "stdout",
     "output_type": "stream",
     "text": [
      "setter method called\n",
      "getter method called\n",
      "19\n"
     ]
    }
   ],
   "source": [
    "\n",
    "\n",
    "class Human():\n",
    "     @abstractmethod\n",
    "     def abstract():\n",
    "         print('abs method')    \n",
    "\n",
    "class Geeks(Human, metaclass=ABCMeta):\n",
    "     def __init__(self):\n",
    "          self._age = 0\n",
    "     \n",
    "     @staticmethod     \n",
    "     def static():\n",
    "         print('static method')\n",
    "         \n",
    "     @classmethod\n",
    "     def classmed():\n",
    "         print('class method')\n",
    "         \n",
    "     def abstract(self):\n",
    "         print('abs method')   \n",
    "         \n",
    "     # using property decorator\n",
    "     # a getter function\n",
    "     @property\n",
    "     def age(self):\n",
    "         print(\"getter method called\")\n",
    "         return self._age\n",
    "       \n",
    "     # a setter function\n",
    "     @age.setter\n",
    "     def age(self, a):\n",
    "         if(a < 18):\n",
    "            raise ValueError(\"Sorry you age is below eligibility criteria\")\n",
    "         print(\"setter method called\")\n",
    "         self._age = a\n",
    "  \n",
    "mark = Geeks()\n",
    "  \n",
    "mark.age = 19\n",
    "  \n",
    "print(mark.age)"
   ]
  }
 ],
 "metadata": {
  "kernelspec": {
   "display_name": "Python 3.10.6 ('mlp-env')",
   "language": "python",
   "name": "python3"
  },
  "language_info": {
   "codemirror_mode": {
    "name": "ipython",
    "version": 3
   },
   "file_extension": ".py",
   "mimetype": "text/x-python",
   "name": "python",
   "nbconvert_exporter": "python",
   "pygments_lexer": "ipython3",
   "version": "3.10.6"
  },
  "orig_nbformat": 4,
  "vscode": {
   "interpreter": {
    "hash": "a0745cecd6693224acfd65ed4dace2baa9598cb458ac011834dc915248e3aadb"
   }
  }
 },
 "nbformat": 4,
 "nbformat_minor": 2
}
